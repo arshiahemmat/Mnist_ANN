{
 "cells": [
  {
   "cell_type": "code",
   "execution_count": null,
   "metadata": {
    "colab": {},
    "colab_type": "code",
    "id": "lY4hsCJ26zyY"
   },
   "outputs": [],
   "source": [
    "from keras.utils import np_utils\n",
    "from keras.models import Sequential\n",
    "from keras.layers import Dense\n",
    "import pandas as pd\n",
    "import numpy as np\n",
    "np.random.seed(3)"
   ]
  },
  {
   "cell_type": "code",
   "execution_count": null,
   "metadata": {
    "colab": {},
    "colab_type": "code",
    "id": "E9j_s1_L7EQu"
   },
   "outputs": [],
   "source": [
    "from keras.datasets import mnist"
   ]
  },
  {
   "cell_type": "code",
   "execution_count": 4,
   "metadata": {
    "colab": {
     "base_uri": "https://localhost:8080/",
     "height": 52
    },
    "colab_type": "code",
    "id": "gcp8SCtP7lur",
    "outputId": "888e8c87-b23e-4674-8f6b-b6f0b9fbb1dd"
   },
   "outputs": [
    {
     "name": "stdout",
     "output_type": "stream",
     "text": [
      "Downloading data from https://storage.googleapis.com/tensorflow/tf-keras-datasets/mnist.npz\n",
      "11493376/11490434 [==============================] - 0s 0us/step\n"
     ]
    }
   ],
   "source": [
    "(x_train,y_train),(x_test,y_test)=mnist.load_data()"
   ]
  },
  {
   "cell_type": "code",
   "execution_count": 5,
   "metadata": {
    "colab": {},
    "colab_type": "code",
    "id": "iwOB5i067wO0"
   },
   "outputs": [],
   "source": [
    "x_train=x_train.reshape(60000,784).astype('float32')\n",
    "x_test=x_test.reshape(10000,784).astype('float32')"
   ]
  },
  {
   "cell_type": "code",
   "execution_count": 6,
   "metadata": {
    "colab": {},
    "colab_type": "code",
    "id": "m8fJtwrq8xA7"
   },
   "outputs": [],
   "source": [
    "x_test/=255\n",
    "x_train/=255"
   ]
  },
  {
   "cell_type": "code",
   "execution_count": 7,
   "metadata": {
    "colab": {},
    "colab_type": "code",
    "id": "eWtyD1hm87kq"
   },
   "outputs": [],
   "source": [
    "y_train=np_utils.to_categorical(y_train)\n",
    "y_test=np_utils.to_categorical(y_test)"
   ]
  },
  {
   "cell_type": "code",
   "execution_count": 8,
   "metadata": {
    "colab": {},
    "colab_type": "code",
    "id": "OB6-w0U59SxR"
   },
   "outputs": [],
   "source": [
    "#fully connected ANN\n",
    "model=Sequential()"
   ]
  },
  {
   "cell_type": "code",
   "execution_count": 9,
   "metadata": {
    "colab": {},
    "colab_type": "code",
    "id": "u0vZB4ee9o62"
   },
   "outputs": [],
   "source": [
    "model.add(Dense(units=16,input_dim=784,kernel_initializer='normal',activation='relu'))"
   ]
  },
  {
   "cell_type": "code",
   "execution_count": 10,
   "metadata": {
    "colab": {},
    "colab_type": "code",
    "id": "b5nMx4NM96M3"
   },
   "outputs": [],
   "source": [
    "model.add(Dense(units=10,kernel_initializer='normal',activation='softmax'))"
   ]
  },
  {
   "cell_type": "code",
   "execution_count": 12,
   "metadata": {
    "colab": {
     "base_uri": "https://localhost:8080/",
     "height": 246
    },
    "colab_type": "code",
    "id": "ZMyWdFL2-DEJ",
    "outputId": "7b216a61-91d4-4d30-abe4-4089cb4c526f"
   },
   "outputs": [
    {
     "name": "stdout",
     "output_type": "stream",
     "text": [
      "Model: \"sequential\"\n",
      "_________________________________________________________________\n",
      "Layer (type)                 Output Shape              Param #   \n",
      "=================================================================\n",
      "dense (Dense)                (None, 16)                12560     \n",
      "_________________________________________________________________\n",
      "dense_1 (Dense)              (None, 10)                170       \n",
      "=================================================================\n",
      "Total params: 12,730\n",
      "Trainable params: 12,730\n",
      "Non-trainable params: 0\n",
      "_________________________________________________________________\n",
      "None\n"
     ]
    }
   ],
   "source": [
    "print(model.summary())"
   ]
  },
  {
   "cell_type": "code",
   "execution_count": 13,
   "metadata": {
    "colab": {},
    "colab_type": "code",
    "id": "JwZZpQvs-GM9"
   },
   "outputs": [],
   "source": [
    "#model training\n",
    "model.compile(loss='categorical_crossentropy',optimizer='adam',metrics=['accuracy'])"
   ]
  },
  {
   "cell_type": "code",
   "execution_count": 14,
   "metadata": {
    "colab": {
     "base_uri": "https://localhost:8080/",
     "height": 721
    },
    "colab_type": "code",
    "id": "CvKCv5HI-rV4",
    "outputId": "f2a92cdd-d491-4e71-9ebb-8e9acc36ef8a"
   },
   "outputs": [
    {
     "name": "stdout",
     "output_type": "stream",
     "text": [
      "Epoch 1/20\n",
      "960/960 - 1s - loss: 0.6148 - accuracy: 0.8363 - val_loss: 0.3060 - val_accuracy: 0.9128\n",
      "Epoch 2/20\n",
      "960/960 - 1s - loss: 0.2957 - accuracy: 0.9151 - val_loss: 0.2565 - val_accuracy: 0.9285\n",
      "Epoch 3/20\n",
      "960/960 - 1s - loss: 0.2567 - accuracy: 0.9254 - val_loss: 0.2338 - val_accuracy: 0.9333\n",
      "Epoch 4/20\n",
      "960/960 - 1s - loss: 0.2294 - accuracy: 0.9341 - val_loss: 0.2122 - val_accuracy: 0.9431\n",
      "Epoch 5/20\n",
      "960/960 - 1s - loss: 0.2082 - accuracy: 0.9411 - val_loss: 0.2015 - val_accuracy: 0.9452\n",
      "Epoch 6/20\n",
      "960/960 - 1s - loss: 0.1931 - accuracy: 0.9448 - val_loss: 0.1957 - val_accuracy: 0.9477\n",
      "Epoch 7/20\n",
      "960/960 - 1s - loss: 0.1817 - accuracy: 0.9478 - val_loss: 0.1902 - val_accuracy: 0.9463\n",
      "Epoch 8/20\n",
      "960/960 - 1s - loss: 0.1730 - accuracy: 0.9501 - val_loss: 0.1833 - val_accuracy: 0.9507\n",
      "Epoch 9/20\n",
      "960/960 - 1s - loss: 0.1648 - accuracy: 0.9527 - val_loss: 0.1812 - val_accuracy: 0.9495\n",
      "Epoch 10/20\n",
      "960/960 - 1s - loss: 0.1594 - accuracy: 0.9540 - val_loss: 0.1790 - val_accuracy: 0.9513\n",
      "Epoch 11/20\n",
      "960/960 - 1s - loss: 0.1532 - accuracy: 0.9563 - val_loss: 0.1837 - val_accuracy: 0.9488\n",
      "Epoch 12/20\n",
      "960/960 - 1s - loss: 0.1477 - accuracy: 0.9576 - val_loss: 0.1735 - val_accuracy: 0.9523\n",
      "Epoch 13/20\n",
      "960/960 - 1s - loss: 0.1430 - accuracy: 0.9587 - val_loss: 0.1728 - val_accuracy: 0.9524\n",
      "Epoch 14/20\n",
      "960/960 - 1s - loss: 0.1392 - accuracy: 0.9589 - val_loss: 0.1758 - val_accuracy: 0.9523\n",
      "Epoch 15/20\n",
      "960/960 - 1s - loss: 0.1347 - accuracy: 0.9607 - val_loss: 0.1728 - val_accuracy: 0.9530\n",
      "Epoch 16/20\n",
      "960/960 - 1s - loss: 0.1304 - accuracy: 0.9614 - val_loss: 0.1729 - val_accuracy: 0.9533\n",
      "Epoch 17/20\n",
      "960/960 - 1s - loss: 0.1279 - accuracy: 0.9625 - val_loss: 0.1695 - val_accuracy: 0.9528\n",
      "Epoch 18/20\n",
      "960/960 - 1s - loss: 0.1244 - accuracy: 0.9641 - val_loss: 0.1718 - val_accuracy: 0.9546\n",
      "Epoch 19/20\n",
      "960/960 - 1s - loss: 0.1218 - accuracy: 0.9649 - val_loss: 0.1711 - val_accuracy: 0.9543\n",
      "Epoch 20/20\n",
      "960/960 - 1s - loss: 0.1188 - accuracy: 0.9650 - val_loss: 0.1736 - val_accuracy: 0.9518\n"
     ]
    }
   ],
   "source": [
    "train=model.fit(x=x_train,y=y_train,validation_split=.2,epochs=20,batch_size=50,verbose=2)"
   ]
  },
  {
   "cell_type": "code",
   "execution_count": 16,
   "metadata": {
    "colab": {
     "base_uri": "https://localhost:8080/",
     "height": 52
    },
    "colab_type": "code",
    "id": "h07Mgnt6_Czn",
    "outputId": "2033d2d2-c568-4a6b-d6ca-dc056f40d67c"
   },
   "outputs": [
    {
     "name": "stdout",
     "output_type": "stream",
     "text": [
      "313/313 [==============================] - 0s 1ms/step - loss: 0.1733 - accuracy: 0.9525\n",
      "accuracy= 0.9524999856948853\n"
     ]
    }
   ],
   "source": [
    "scores=model.evaluate(x_test,y_test)\n",
    "print('accuracy=',scores[1])"
   ]
  },
  {
   "cell_type": "code",
   "execution_count": null,
   "metadata": {
    "colab": {},
    "colab_type": "code",
    "id": "7UfRn4Wa_u2B"
   },
   "outputs": [],
   "source": []
  }
 ],
 "metadata": {
  "colab": {
   "collapsed_sections": [],
   "name": "second.ipynb",
   "provenance": []
  },
  "kernelspec": {
   "display_name": "Python 3 (ipykernel)",
   "language": "python",
   "name": "python3"
  },
  "language_info": {
   "codemirror_mode": {
    "name": "ipython",
    "version": 3
   },
   "file_extension": ".py",
   "mimetype": "text/x-python",
   "name": "python",
   "nbconvert_exporter": "python",
   "pygments_lexer": "ipython3",
   "version": "3.9.6"
  }
 },
 "nbformat": 4,
 "nbformat_minor": 1
}
